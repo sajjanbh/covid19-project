{
 "cells": [
  {
   "cell_type": "code",
   "execution_count": 25,
   "metadata": {},
   "outputs": [
    {
     "data": {
      "application/vnd.jupyter.widget-view+json": {
       "model_id": "27f42015daa44449872b69b3b433151b",
       "version_major": 2,
       "version_minor": 0
      },
      "text/plain": [
       "VBox()"
      ]
     },
     "metadata": {},
     "output_type": "display_data"
    },
    {
     "data": {
      "application/vnd.jupyter.widget-view+json": {
       "model_id": "",
       "version_major": 2,
       "version_minor": 0
      },
      "text/plain": [
       "FloatProgress(value=0.0, bar_style='info', description='Progress:', layout=Layout(height='25px', width='50%'),…"
      ]
     },
     "metadata": {},
     "output_type": "display_data"
    }
   ],
   "source": [
    "from pyspark.sql import SparkSession\n",
    "from pyspark.sql.functions import col, regexp_replace, split, lower\n",
    "from pyspark.sql.types import StructField, StructType, StringType, IntegerType, ArrayType"
   ]
  },
  {
   "cell_type": "code",
   "execution_count": 26,
   "metadata": {},
   "outputs": [
    {
     "data": {
      "application/vnd.jupyter.widget-view+json": {
       "model_id": "58861677e880426f83a385f81ee95972",
       "version_major": 2,
       "version_minor": 0
      },
      "text/plain": [
       "VBox()"
      ]
     },
     "metadata": {},
     "output_type": "display_data"
    },
    {
     "data": {
      "application/vnd.jupyter.widget-view+json": {
       "model_id": "",
       "version_major": 2,
       "version_minor": 0
      },
      "text/plain": [
       "FloatProgress(value=0.0, bar_style='info', description='Progress:', layout=Layout(height='25px', width='50%'),…"
      ]
     },
     "metadata": {},
     "output_type": "display_data"
    }
   ],
   "source": [
    "# Define date\n",
    "year = \"2020\"\n",
    "month = \"05\"\n",
    "day = \"29\""
   ]
  },
  {
   "cell_type": "code",
   "execution_count": 27,
   "metadata": {},
   "outputs": [
    {
     "data": {
      "application/vnd.jupyter.widget-view+json": {
       "model_id": "08b2cdbedf3846b68f2b0f90a3ba5d4d",
       "version_major": 2,
       "version_minor": 0
      },
      "text/plain": [
       "VBox()"
      ]
     },
     "metadata": {},
     "output_type": "display_data"
    },
    {
     "data": {
      "application/vnd.jupyter.widget-view+json": {
       "model_id": "",
       "version_major": 2,
       "version_minor": 0
      },
      "text/plain": [
       "FloatProgress(value=0.0, bar_style='info', description='Progress:', layout=Layout(height='25px', width='50%'),…"
      ]
     },
     "metadata": {},
     "output_type": "display_data"
    }
   ],
   "source": [
    "dt = \"{}-{}-{}\".format(year, month, day)\n",
    "# Input location\n",
    "database = \"covid_project\"\n",
    "table = \"{}.twitter_data\".format(database)\n",
    "\n",
    "# Output location\n",
    "my_bucket = \"<s3-bucket-name>\"\n",
    "output_path = \"s3://{}/notebook/covid_twitter_etl2/\".format(my_bucket)\n",
    "output_table = \"{}.covid_twitter_etl2_ntbk\".format(database)"
   ]
  },
  {
   "cell_type": "code",
   "execution_count": 28,
   "metadata": {},
   "outputs": [
    {
     "data": {
      "application/vnd.jupyter.widget-view+json": {
       "model_id": "ee1b6f529ca24e4f8bf424d4479d3b08",
       "version_major": 2,
       "version_minor": 0
      },
      "text/plain": [
       "VBox()"
      ]
     },
     "metadata": {},
     "output_type": "display_data"
    },
    {
     "data": {
      "application/vnd.jupyter.widget-view+json": {
       "model_id": "",
       "version_major": 2,
       "version_minor": 0
      },
      "text/plain": [
       "FloatProgress(value=0.0, bar_style='info', description='Progress:', layout=Layout(height='25px', width='50%'),…"
      ]
     },
     "metadata": {},
     "output_type": "display_data"
    }
   ],
   "source": [
    "# Defining functions\n",
    "def getTop10(map_collection):\n",
    "    # Sort in order of highest word count \n",
    "    sorted_x = sorted(map_collection.items(), key=lambda kv: kv[1], reverse=True)\n",
    "    top10words = []\n",
    "\n",
    "    for i in sorted_x:\n",
    "        if len(top10words) >= 10:\n",
    "            break\n",
    "        \n",
    "        if i[0] != \"\":    # remove empty word\n",
    "            top10words.append(i[0])\n",
    "    return top10words\n",
    "\n",
    "def calculateTop10Words(df2):\n",
    "    # Convert tweet to an array\n",
    "    df_transf_new= df2.withColumn(\"tweet\", split(lower(col(\"tweet\")), \" \"))\n",
    "\n",
    "    # Count appearence of each word\n",
    "    d = df_transf_new.rdd.flatMap(lambda a: a.tweet).countByValue()\n",
    "    return getTop10(d)\n",
    "\n",
    "def calculateTop10HashtagsPerCountry(df2):\n",
    "    # Convert hashtags to an array\n",
    "    df_transf_new= df2.withColumn(\n",
    "        \"hashtags\",\n",
    "        split(regexp_replace(lower(col(\"hashtags\")), r\"(^\\[)|(\\]$)|(')\", \"\"), \", \")\n",
    "    )\n",
    "    d = df_transf_new.rdd.flatMap(lambda a: a.hashtags).countByValue()\n",
    "    return getTop10(d)\n",
    "\n",
    "def calculateNumberOfCovidTweetsRetrieved(df2):\n",
    "    return df2.count()"
   ]
  },
  {
   "cell_type": "code",
   "execution_count": 29,
   "metadata": {},
   "outputs": [
    {
     "data": {
      "application/vnd.jupyter.widget-view+json": {
       "model_id": "a56db2a87a1c41b2beaa84f664a375ab",
       "version_major": 2,
       "version_minor": 0
      },
      "text/plain": [
       "VBox()"
      ]
     },
     "metadata": {},
     "output_type": "display_data"
    },
    {
     "data": {
      "application/vnd.jupyter.widget-view+json": {
       "model_id": "",
       "version_major": 2,
       "version_minor": 0
      },
      "text/plain": [
       "FloatProgress(value=0.0, bar_style='info', description='Progress:', layout=Layout(height='25px', width='50%'),…"
      ]
     },
     "metadata": {},
     "output_type": "display_data"
    }
   ],
   "source": [
    "# Create Session\n",
    "spark = SparkSession \\\n",
    "    .builder \\\n",
    "    .appName(\"Python Spark SQL Hive integration example\") \\\n",
    "    .enableHiveSupport() \\\n",
    "    .config(\"spark.hadoop.mapreduce.input.fileinputformat.input.dir.recursive\",\"true\") \\\n",
    "    .config(\"hive.mapred.supports.subdirectories\",\"true\") \\\n",
    "    .getOrCreate()"
   ]
  },
  {
   "cell_type": "code",
   "execution_count": 30,
   "metadata": {},
   "outputs": [
    {
     "data": {
      "application/vnd.jupyter.widget-view+json": {
       "model_id": "076157ad959942c58af4f958f5a1fd3c",
       "version_major": 2,
       "version_minor": 0
      },
      "text/plain": [
       "VBox()"
      ]
     },
     "metadata": {},
     "output_type": "display_data"
    },
    {
     "data": {
      "application/vnd.jupyter.widget-view+json": {
       "model_id": "",
       "version_major": 2,
       "version_minor": 0
      },
      "text/plain": [
       "FloatProgress(value=0.0, bar_style='info', description='Progress:', layout=Layout(height='25px', width='50%'),…"
      ]
     },
     "metadata": {},
     "output_type": "display_data"
    },
    {
     "name": "stdout",
     "output_type": "stream",
     "text": [
      "+--------------------+\n",
      "|      createtab_stmt|\n",
      "+--------------------+\n",
      "|CREATE EXTERNAL T...|\n",
      "+--------------------+"
     ]
    }
   ],
   "source": [
    "# Let's display table DDL\n",
    "spark.sql('show create table {}'.format(table)).show()"
   ]
  },
  {
   "cell_type": "code",
   "execution_count": 31,
   "metadata": {},
   "outputs": [
    {
     "data": {
      "application/vnd.jupyter.widget-view+json": {
       "model_id": "0b468f1b07034dd1820e8423054f62c3",
       "version_major": 2,
       "version_minor": 0
      },
      "text/plain": [
       "VBox()"
      ]
     },
     "metadata": {},
     "output_type": "display_data"
    },
    {
     "data": {
      "application/vnd.jupyter.widget-view+json": {
       "model_id": "",
       "version_major": 2,
       "version_minor": 0
      },
      "text/plain": [
       "FloatProgress(value=0.0, bar_style='info', description='Progress:', layout=Layout(height='25px', width='50%'),…"
      ]
     },
     "metadata": {},
     "output_type": "display_data"
    },
    {
     "name": "stdout",
     "output_type": "stream",
     "text": [
      "root\n",
      " |-- country: string (nullable = true)\n",
      " |-- tweet: string (nullable = true)\n",
      " |-- hashtags: string (nullable = true)"
     ]
    }
   ],
   "source": [
    "# Read into DF -> drop any rows that have 'None' as hashtag\n",
    "query = 'select country, tweet, lower(hashtags) as hashtags from {} where year=\"{}\" AND month=\"{}\" AND day=\"{}\" AND hashtags NOT LIKE \"%None%\"'.format(table, year, month, day)\n",
    "df = spark.sql(query)\n",
    "df.persist()\n",
    "df.printSchema()"
   ]
  },
  {
   "cell_type": "code",
   "execution_count": 32,
   "metadata": {},
   "outputs": [
    {
     "data": {
      "application/vnd.jupyter.widget-view+json": {
       "model_id": "5d455ad2f75343238a3f6707bd93c6f6",
       "version_major": 2,
       "version_minor": 0
      },
      "text/plain": [
       "VBox()"
      ]
     },
     "metadata": {},
     "output_type": "display_data"
    },
    {
     "data": {
      "application/vnd.jupyter.widget-view+json": {
       "model_id": "",
       "version_major": 2,
       "version_minor": 0
      },
      "text/plain": [
       "FloatProgress(value=0.0, bar_style='info', description='Progress:', layout=Layout(height='25px', width='50%'),…"
      ]
     },
     "metadata": {},
     "output_type": "display_data"
    }
   ],
   "source": [
    "# Define schema for final dataframe\n",
    "final_schema = StructType([\n",
    "        StructField('country', StringType(), False),\n",
    "        StructField('day', StringType(), False),\n",
    "        StructField('numberOfCovidTweetsRetrieved', IntegerType(), False),\n",
    "        StructField('top10WordsPerCountry', ArrayType(StringType()), False),\n",
    "        StructField('top10HashtagsPerCountry', ArrayType(StringType()), False)\n",
    "])\n",
    "\n",
    "row_list = []"
   ]
  },
  {
   "cell_type": "code",
   "execution_count": 33,
   "metadata": {},
   "outputs": [
    {
     "data": {
      "application/vnd.jupyter.widget-view+json": {
       "model_id": "1ef0a3ada6f2406eb2deebdb9d377662",
       "version_major": 2,
       "version_minor": 0
      },
      "text/plain": [
       "VBox()"
      ]
     },
     "metadata": {},
     "output_type": "display_data"
    },
    {
     "data": {
      "application/vnd.jupyter.widget-view+json": {
       "model_id": "",
       "version_major": 2,
       "version_minor": 0
      },
      "text/plain": [
       "FloatProgress(value=0.0, bar_style='info', description='Progress:', layout=Layout(height='25px', width='50%'),…"
      ]
     },
     "metadata": {},
     "output_type": "display_data"
    },
    {
     "name": "stdout",
     "output_type": "stream",
     "text": [
      "[Row(country='MM'), Row(country='LT'), Row(country='DZ')]"
     ]
    }
   ],
   "source": [
    "# Get unique countries\n",
    "countries_code = df.select('country').distinct().collect()\n",
    "countries_code[:3] # Get first 3 values"
   ]
  },
  {
   "cell_type": "code",
   "execution_count": 34,
   "metadata": {},
   "outputs": [
    {
     "data": {
      "application/vnd.jupyter.widget-view+json": {
       "model_id": "e3c32c7dfc4f4ac7ba1d33be128043bf",
       "version_major": 2,
       "version_minor": 0
      },
      "text/plain": [
       "VBox()"
      ]
     },
     "metadata": {},
     "output_type": "display_data"
    },
    {
     "data": {
      "application/vnd.jupyter.widget-view+json": {
       "model_id": "",
       "version_major": 2,
       "version_minor": 0
      },
      "text/plain": [
       "FloatProgress(value=0.0, bar_style='info', description='Progress:', layout=Layout(height='25px', width='50%'),…"
      ]
     },
     "metadata": {},
     "output_type": "display_data"
    }
   ],
   "source": [
    "# Calculate top 10 hashtags and words for each country\n",
    "for country in countries_code:\n",
    "    country = country['country']\n",
    "    c_df = df.filter(df.country == country)\n",
    "    top10WordsPerCountry = calculateTop10Words(c_df)\n",
    "    top10HashtagsPerCountry = calculateTop10HashtagsPerCountry(c_df)\n",
    "    numberOfCovidTweetsRetrieved = calculateNumberOfCovidTweetsRetrieved(c_df)\n",
    "    new_row = (country, dt, numberOfCovidTweetsRetrieved, top10WordsPerCountry, top10HashtagsPerCountry)\n",
    "    row_list.append(new_row)"
   ]
  },
  {
   "cell_type": "code",
   "execution_count": 35,
   "metadata": {},
   "outputs": [
    {
     "data": {
      "application/vnd.jupyter.widget-view+json": {
       "model_id": "46a3171015864633823c98be6a132068",
       "version_major": 2,
       "version_minor": 0
      },
      "text/plain": [
       "VBox()"
      ]
     },
     "metadata": {},
     "output_type": "display_data"
    },
    {
     "data": {
      "application/vnd.jupyter.widget-view+json": {
       "model_id": "",
       "version_major": 2,
       "version_minor": 0
      },
      "text/plain": [
       "FloatProgress(value=0.0, bar_style='info', description='Progress:', layout=Layout(height='25px', width='50%'),…"
      ]
     },
     "metadata": {},
     "output_type": "display_data"
    },
    {
     "name": "stdout",
     "output_type": "stream",
     "text": [
      "+-------+----------+----------------------------+--------------------+-----------------------+\n",
      "|country|       day|numberOfCovidTweetsRetrieved|top10WordsPerCountry|top10HashtagsPerCountry|\n",
      "+-------+----------+----------------------------+--------------------+-----------------------+\n",
      "|     MM|2020-05-29|                           1|[., shwe, dagon, ...|   [throwbacktravel,...|\n",
      "|     LT|2020-05-29|                           1|[yra, kaip, apie,...|              [covid19]|\n",
      "|     DZ|2020-05-29|                           4|[#covid19, de, .,...|   [samsunggalaxynot...|\n",
      "|     CI|2020-05-29|                           4|[de, la, le, au, ...|   [dssr, covid19, d...|\n",
      "+-------+----------+----------------------------+--------------------+-----------------------+\n",
      "only showing top 4 rows"
     ]
    }
   ],
   "source": [
    "# Create dataframe from above list\n",
    "final_df = spark.createDataFrame(row_list, final_schema)\n",
    "final_df.show(4)"
   ]
  },
  {
   "cell_type": "code",
   "execution_count": 36,
   "metadata": {},
   "outputs": [
    {
     "data": {
      "application/vnd.jupyter.widget-view+json": {
       "model_id": "f3a4b42971044bafb6ffd19c6953c7f0",
       "version_major": 2,
       "version_minor": 0
      },
      "text/plain": [
       "VBox()"
      ]
     },
     "metadata": {},
     "output_type": "display_data"
    },
    {
     "data": {
      "application/vnd.jupyter.widget-view+json": {
       "model_id": "",
       "version_major": 2,
       "version_minor": 0
      },
      "text/plain": [
       "FloatProgress(value=0.0, bar_style='info', description='Progress:', layout=Layout(height='25px', width='50%'),…"
      ]
     },
     "metadata": {},
     "output_type": "display_data"
    },
    {
     "name": "stdout",
     "output_type": "stream",
     "text": [
      "Wrote the output!"
     ]
    }
   ],
   "source": [
    "# Write to Hive table and S3\n",
    "final_df.repartition(1).write.mode(\"append\").option(\"path\", output_path).format(\"Parquet\").saveAsTable(output_table)\n",
    "print(\"Wrote the output!\")"
   ]
  },
  {
   "cell_type": "code",
   "execution_count": null,
   "metadata": {},
   "outputs": [],
   "source": []
  }
 ],
 "metadata": {
  "kernelspec": {
   "display_name": "PySpark",
   "language": "",
   "name": "pysparkkernel"
  },
  "language_info": {
   "codemirror_mode": {
    "name": "python",
    "version": 2
   },
   "mimetype": "text/x-python",
   "name": "pyspark",
   "pygments_lexer": "python2"
  }
 },
 "nbformat": 4,
 "nbformat_minor": 4
}
