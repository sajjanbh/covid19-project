{
 "cells": [
  {
   "cell_type": "code",
   "execution_count": 44,
   "metadata": {},
   "outputs": [
    {
     "data": {
      "application/vnd.jupyter.widget-view+json": {
       "model_id": "860eef3cb44a48858e9af58cc68a62c3",
       "version_major": 2,
       "version_minor": 0
      },
      "text/plain": [
       "VBox()"
      ]
     },
     "metadata": {},
     "output_type": "display_data"
    },
    {
     "data": {
      "application/vnd.jupyter.widget-view+json": {
       "model_id": "",
       "version_major": 2,
       "version_minor": 0
      },
      "text/plain": [
       "FloatProgress(value=0.0, bar_style='info', description='Progress:', layout=Layout(height='25px', width='50%'),…"
      ]
     },
     "metadata": {},
     "output_type": "display_data"
    }
   ],
   "source": [
    "import sys\n",
    "from pyspark.sql import SparkSession\n",
    "from pyspark.sql.functions import udf, lit, col\n",
    "from pyspark.sql.types import IntegerType, FloatType\n",
    "import pycountry\n",
    "import datetime"
   ]
  },
  {
   "cell_type": "code",
   "execution_count": 45,
   "metadata": {},
   "outputs": [
    {
     "data": {
      "application/vnd.jupyter.widget-view+json": {
       "model_id": "36336fe0a4fc410a98ddb19bad2b1b2c",
       "version_major": 2,
       "version_minor": 0
      },
      "text/plain": [
       "VBox()"
      ]
     },
     "metadata": {},
     "output_type": "display_data"
    },
    {
     "data": {
      "application/vnd.jupyter.widget-view+json": {
       "model_id": "",
       "version_major": 2,
       "version_minor": 0
      },
      "text/plain": [
       "FloatProgress(value=0.0, bar_style='info', description='Progress:', layout=Layout(height='25px', width='50%'),…"
      ]
     },
     "metadata": {},
     "output_type": "display_data"
    }
   ],
   "source": [
    "# Define date\n",
    "year = \"2020\"\n",
    "month = \"05\"\n",
    "day = \"29\""
   ]
  },
  {
   "cell_type": "code",
   "execution_count": 46,
   "metadata": {},
   "outputs": [
    {
     "data": {
      "application/vnd.jupyter.widget-view+json": {
       "model_id": "d686c4f890374225a8b0294ba7ca77fc",
       "version_major": 2,
       "version_minor": 0
      },
      "text/plain": [
       "VBox()"
      ]
     },
     "metadata": {},
     "output_type": "display_data"
    },
    {
     "data": {
      "application/vnd.jupyter.widget-view+json": {
       "model_id": "",
       "version_major": 2,
       "version_minor": 0
      },
      "text/plain": [
       "FloatProgress(value=0.0, bar_style='info', description='Progress:', layout=Layout(height='25px', width='50%'),…"
      ]
     },
     "metadata": {},
     "output_type": "display_data"
    }
   ],
   "source": [
    "# Define input and output parameters\n",
    "my_bucket = \"<your-S3-bucket\"\n",
    "input_path = \"s3://{}/covid-ingest-data/csse_covid_19_data/csse_covid_19_daily_reports/{}-{}-{}.csv\"\\\n",
    ".format(my_bucket, month, day, year)\n",
    "processed_output_path = \"s3://{}/notebook/etl1_processed/\".format(my_bucket)\n",
    "aggregated_output_path = \"s3://{}/notebook/etl1_aggregated/\".format(my_bucket)\n",
    "glue_db = \"covid_project\"\n",
    "glue_processed_table = \"{}.etl1_ntbk_processed\".format(glue_db)\n",
    "glue_aggregated_table = \"{}.etl1_ntbk_aggregated\".format(glue_db)"
   ]
  },
  {
   "cell_type": "code",
   "execution_count": 47,
   "metadata": {},
   "outputs": [
    {
     "data": {
      "application/vnd.jupyter.widget-view+json": {
       "model_id": "ff162037231f4e97aae72d139d6f747c",
       "version_major": 2,
       "version_minor": 0
      },
      "text/plain": [
       "VBox()"
      ]
     },
     "metadata": {},
     "output_type": "display_data"
    },
    {
     "data": {
      "application/vnd.jupyter.widget-view+json": {
       "model_id": "",
       "version_major": 2,
       "version_minor": 0
      },
      "text/plain": [
       "FloatProgress(value=0.0, bar_style='info', description='Progress:', layout=Layout(height='25px', width='50%'),…"
      ]
     },
     "metadata": {},
     "output_type": "display_data"
    }
   ],
   "source": [
    "# To handle mapping of country name to country code \n",
    "input_countries = {}\n",
    "unknown_countries = []\n",
    "# make manual list of country codes from prvious unknown_countries\n",
    "input_countries['Mainland China'] = \"CN\"\n",
    "input_countries['Macau'] = 'MO'\n",
    "input_countries['South Korea'] = 'KR'\n",
    "input_countries['Ivory Coast'] = 'CI'\n",
    "input_countries['North Ireland'] = 'GB'\n",
    "input_countries['Republic of Ireland'] = 'IE'\n",
    "input_countries['St. Martin'] = 'MF'\n",
    "input_countries['Iran (Islamic Republic of)'] = 'IR'\n",
    "input_countries['Taipei and environs'] = 'TW'\n",
    "input_countries['occupied Palestinian territory'] = 'PS'\n",
    "input_countries['Channel Islands'] = 'GBR'\n",
    "input_countries['Korea, South'] = 'KR'\n",
    "input_countries['Cruise Ship'] = 'XZ' # international waters\n",
    "input_countries['Taiwan*'] = 'TW'\n",
    "input_countries['Congo (Kinshasa)'] = 'CD'\n",
    "input_countries['Congo (Brazzaville)'] = 'CG'\n",
    "input_countries['Gambia, The'] = 'GM'\n",
    "input_countries['Bahamas, The'] = 'BS'\n",
    "input_countries['Cape Verde'] = 'CV'\n",
    "input_countries['East Timor'] = 'TL'\n",
    "input_countries['Laos'] = 'LA'\n",
    "input_countries['Diamond Princess'] = 'XZ' # Cruise ship\n",
    "input_countries['West Bank and Gaza'] = 'PS'\n",
    "input_countries['Burma'] = 'MM'\n",
    "input_countries['MS Zaandam'] = 'XZ' # Cruise ship\n",
    "input_countries['Others'] = 'XZ'"
   ]
  },
  {
   "cell_type": "code",
   "execution_count": 48,
   "metadata": {},
   "outputs": [
    {
     "data": {
      "application/vnd.jupyter.widget-view+json": {
       "model_id": "96f278b727c243629ac4c9d273e40289",
       "version_major": 2,
       "version_minor": 0
      },
      "text/plain": [
       "VBox()"
      ]
     },
     "metadata": {},
     "output_type": "display_data"
    },
    {
     "data": {
      "application/vnd.jupyter.widget-view+json": {
       "model_id": "",
       "version_major": 2,
       "version_minor": 0
      },
      "text/plain": [
       "FloatProgress(value=0.0, bar_style='info', description='Progress:', layout=Layout(height='25px', width='50%'),…"
      ]
     },
     "metadata": {},
     "output_type": "display_data"
    }
   ],
   "source": [
    "# Types of schema discovered so far\n",
    "#01-22-2020.csv\n",
    "known_schema = [['Province/State', 'Country/Region', 'Last Update', 'Confirmed', 'Deaths', 'Recovered']]\n",
    "#03-01-2020.csv\n",
    "known_schema.append(['Province/State', 'Country/Region', 'Last Update', 'Confirmed', 'Deaths', 'Recovered', 'Latitude', 'Longitude'])\n",
    "#03-22-2020.csv\n",
    "known_schema.append(['FIPS', 'Admin2', 'Province_State', 'Country_Region', 'Last_Update', 'Lat', 'Long_', 'Confirmed', 'Deaths', 'Recovered', 'Active', 'Combined_Key'])\n",
    "#05-29-2020.csv\n",
    "known_schema.append(['FIPS', 'Admin2', 'Province_State', 'Country_Region', 'Last_Update', 'Lat', 'Long_', 'Confirmed', 'Deaths', 'Recovered', 'Active', 'Combined_Key', 'Incidence_Rate', 'Case-Fatality_Ratio'])\n"
   ]
  },
  {
   "cell_type": "code",
   "execution_count": 49,
   "metadata": {},
   "outputs": [
    {
     "data": {
      "application/vnd.jupyter.widget-view+json": {
       "model_id": "3bc9e7b7f5b543649c60bf9858f9d90d",
       "version_major": 2,
       "version_minor": 0
      },
      "text/plain": [
       "VBox()"
      ]
     },
     "metadata": {},
     "output_type": "display_data"
    },
    {
     "data": {
      "application/vnd.jupyter.widget-view+json": {
       "model_id": "",
       "version_major": 2,
       "version_minor": 0
      },
      "text/plain": [
       "FloatProgress(value=0.0, bar_style='info', description='Progress:', layout=Layout(height='25px', width='50%'),…"
      ]
     },
     "metadata": {},
     "output_type": "display_data"
    }
   ],
   "source": [
    "# Function to get Country Code from name\n",
    "def to_country_code(country):\n",
    "    existing = input_countries.get(country)\n",
    "    if existing: \n",
    "        return existing\n",
    "    elif country in unknown_countries:\n",
    "        return country\n",
    "    else:\n",
    "        try:\n",
    "            cc = pycountry.countries.search_fuzzy(country)[0]\n",
    "            input_countries[country] = cc.alpha_2\n",
    "            return cc.alpha_2\n",
    "        except Exception as e:\n",
    "            unknown_countries.append(country)\n",
    "            return country\n",
    "        \n",
    "# Register custom function as UDF\n",
    "myudf = udf(to_country_code)"
   ]
  },
  {
   "cell_type": "code",
   "execution_count": 50,
   "metadata": {},
   "outputs": [
    {
     "data": {
      "application/vnd.jupyter.widget-view+json": {
       "model_id": "d408912d5415412596754e7c2985eda8",
       "version_major": 2,
       "version_minor": 0
      },
      "text/plain": [
       "VBox()"
      ]
     },
     "metadata": {},
     "output_type": "display_data"
    },
    {
     "data": {
      "application/vnd.jupyter.widget-view+json": {
       "model_id": "",
       "version_major": 2,
       "version_minor": 0
      },
      "text/plain": [
       "FloatProgress(value=0.0, bar_style='info', description='Progress:', layout=Layout(height='25px', width='50%'),…"
      ]
     },
     "metadata": {},
     "output_type": "display_data"
    }
   ],
   "source": [
    "# Create Spark Session\n",
    "spark = SparkSession \\\n",
    "  .builder \\\n",
    "  .appName(\"ETL1-Aggreate-stats-by-state\") \\\n",
    "  .enableHiveSupport() \\\n",
    "  .getOrCreate()"
   ]
  },
  {
   "cell_type": "code",
   "execution_count": 51,
   "metadata": {},
   "outputs": [
    {
     "data": {
      "application/vnd.jupyter.widget-view+json": {
       "model_id": "3951a12ff5db4e87aff992afcf972f30",
       "version_major": 2,
       "version_minor": 0
      },
      "text/plain": [
       "VBox()"
      ]
     },
     "metadata": {},
     "output_type": "display_data"
    },
    {
     "data": {
      "application/vnd.jupyter.widget-view+json": {
       "model_id": "",
       "version_major": 2,
       "version_minor": 0
      },
      "text/plain": [
       "FloatProgress(value=0.0, bar_style='info', description='Progress:', layout=Layout(height='25px', width='50%'),…"
      ]
     },
     "metadata": {},
     "output_type": "display_data"
    },
    {
     "name": "stdout",
     "output_type": "stream",
     "text": [
      "root\n",
      " |-- FIPS: string (nullable = true)\n",
      " |-- Admin2: string (nullable = true)\n",
      " |-- Province_State: string (nullable = true)\n",
      " |-- Country_Region: string (nullable = true)\n",
      " |-- Last_Update: string (nullable = true)\n",
      " |-- Lat: string (nullable = true)\n",
      " |-- Long_: string (nullable = true)\n",
      " |-- Confirmed: string (nullable = true)\n",
      " |-- Deaths: string (nullable = true)\n",
      " |-- Recovered: string (nullable = true)\n",
      " |-- Active: string (nullable = true)\n",
      " |-- Combined_Key: string (nullable = true)\n",
      " |-- Incidence_Rate: string (nullable = true)\n",
      " |-- Case-Fatality_Ratio: string (nullable = true)"
     ]
    }
   ],
   "source": [
    "raw = spark.read.csv(input_path, header=True)\n",
    "raw.printSchema()"
   ]
  },
  {
   "cell_type": "code",
   "execution_count": 52,
   "metadata": {},
   "outputs": [
    {
     "data": {
      "application/vnd.jupyter.widget-view+json": {
       "model_id": "7e6edb27782049089d9466cb4d6af6cf",
       "version_major": 2,
       "version_minor": 0
      },
      "text/plain": [
       "VBox()"
      ]
     },
     "metadata": {},
     "output_type": "display_data"
    },
    {
     "data": {
      "application/vnd.jupyter.widget-view+json": {
       "model_id": "",
       "version_major": 2,
       "version_minor": 0
      },
      "text/plain": [
       "FloatProgress(value=0.0, bar_style='info', description='Progress:', layout=Layout(height='25px', width='50%'),…"
      ]
     },
     "metadata": {},
     "output_type": "display_data"
    },
    {
     "name": "stdout",
     "output_type": "stream",
     "text": [
      "root\n",
      " |-- FIPS: string (nullable = true)\n",
      " |-- Admin2: string (nullable = true)\n",
      " |-- state: string (nullable = true)\n",
      " |-- country: string (nullable = true)\n",
      " |-- last_update: string (nullable = true)\n",
      " |-- latitude: string (nullable = true)\n",
      " |-- longitude: string (nullable = true)\n",
      " |-- confirmed: string (nullable = true)\n",
      " |-- deaths: string (nullable = true)\n",
      " |-- recovered: string (nullable = true)\n",
      " |-- active: string (nullable = true)\n",
      " |-- Combined_Key: string (nullable = true)\n",
      " |-- incidence_rate: string (nullable = true)\n",
      " |-- case_fatality_ratio: string (nullable = true)"
     ]
    }
   ],
   "source": [
    "# Conditional processing of input file based on match from known schema\n",
    "if known_schema.index(list(raw.columns)) == 0:\n",
    "    raw = raw.withColumnRenamed(\"Province/State\", \"state\").withColumnRenamed(\"Country/Region\", \"country\")\\\n",
    "        .withColumnRenamed(\"Last Update\", \"last_update\").withColumnRenamed(\"Confirmed\", \"confirmed\")\\\n",
    "        .withColumnRenamed(\"Deaths\", \"deaths\").withColumnRenamed(\"Recovered\", \"recovered\")\\\n",
    "        .withColumn('latitude', lit(\"null\")).withColumn('longitude', lit(\"null\"))\\\n",
    "        .withColumn(\"active\", lit(\"null\")).withColumn(\"incidence_rate\", lit(\"null\"))\\\n",
    "        .withColumn(\"case_fatality_ratio\", lit(\"null\"))\n",
    "elif known_schema.index(list(raw.columns)) == 1:\n",
    "    raw = raw.withColumnRenamed(\"Province/State\", \"state\").withColumnRenamed(\"Country/Region\", \"country\")\\\n",
    "        .withColumnRenamed(\"Last Update\", \"last_update\").withColumnRenamed(\"Confirmed\", \"confirmed\")\\\n",
    "        .withColumnRenamed(\"Deaths\", \"deaths\").withColumnRenamed(\"Recovered\", \"recovered\")\\\n",
    "        .withColumnRenamed(\"Latitude\", \"latitude\").withColumnRenamed(\"Longitude\", \"longitude\")\\\n",
    "        .withColumn(\"active\", lit(\"null\"))\\\n",
    "        .withColumn(\"incidence_rate\", lit(\"null\")).withColumn(\"case_fatality_ratio\", lit(\"null\"))\n",
    "elif known_schema.index(list(raw.columns)) == 2:\n",
    "    raw = raw.withColumnRenamed(\"Province_State\", \"state\").withColumnRenamed(\"Country_Region\", \"country\")\\\n",
    "        .withColumnRenamed(\"Last_Update\", \"last_update\").withColumnRenamed(\"Lat\", \"latitude\").withColumnRenamed(\"Long_\", \"longitude\")\\\n",
    "        .withColumnRenamed(\"Confirmed\", \"confirmed\").withColumnRenamed(\"Deaths\", \"deaths\")\\\n",
    "        .withColumnRenamed(\"Recovered\", \"recovered\").withColumnRenamed(\"Active\", \"active\")\\\n",
    "        .withColumn('incidence_rate', lit(\"null\")).withColumn(\"case_fatality_ratio\")\n",
    "elif known_schema.index(list(raw.columns)) == 3:\n",
    "    raw = raw.withColumnRenamed(\"Province_State\", \"state\").withColumnRenamed(\"Country_Region\", \"country\")\\\n",
    "        .withColumnRenamed(\"Last_Update\", \"last_update\").withColumnRenamed(\"Lat\", \"latitude\")\\\n",
    "        .withColumnRenamed(\"Long_\", \"longitude\").withColumnRenamed(\"Confirmed\", \"confirmed\").withColumnRenamed(\"Deaths\", \"deaths\")\\\n",
    "        .withColumnRenamed(\"Recovered\", \"recovered\").withColumnRenamed(\"Active\", \"active\")\\\n",
    "        .withColumnRenamed(\"Incidence_Rate\", \"incidence_rate\").withColumnRenamed(\"Case-Fatality_Ratio\", \"case_fatality_ratio\")\n",
    "else:\n",
    "    print(\"New schema found!\")\n",
    "    # Afterwards, we may want to send a notification to SNS whenever a new schema is detected.\n",
    "    exit()\n",
    "\n",
    "raw.printSchema()"
   ]
  },
  {
   "cell_type": "code",
   "execution_count": 53,
   "metadata": {},
   "outputs": [
    {
     "data": {
      "application/vnd.jupyter.widget-view+json": {
       "model_id": "c5dd993fc61948ea8818cf89e9b92c79",
       "version_major": 2,
       "version_minor": 0
      },
      "text/plain": [
       "VBox()"
      ]
     },
     "metadata": {},
     "output_type": "display_data"
    },
    {
     "data": {
      "application/vnd.jupyter.widget-view+json": {
       "model_id": "",
       "version_major": 2,
       "version_minor": 0
      },
      "text/plain": [
       "FloatProgress(value=0.0, bar_style='info', description='Progress:', layout=Layout(height='25px', width='50%'),…"
      ]
     },
     "metadata": {},
     "output_type": "display_data"
    }
   ],
   "source": [
    "mapped = raw.withColumn(\"country\", myudf(raw.country))\n",
    "mapped = mapped.fillna('null')\n",
    "mapped = mapped.dropDuplicates()"
   ]
  },
  {
   "cell_type": "code",
   "execution_count": 54,
   "metadata": {},
   "outputs": [
    {
     "data": {
      "application/vnd.jupyter.widget-view+json": {
       "model_id": "e04fa0d55a6c48c6b8d063f5ce37012c",
       "version_major": 2,
       "version_minor": 0
      },
      "text/plain": [
       "VBox()"
      ]
     },
     "metadata": {},
     "output_type": "display_data"
    },
    {
     "data": {
      "application/vnd.jupyter.widget-view+json": {
       "model_id": "",
       "version_major": 2,
       "version_minor": 0
      },
      "text/plain": [
       "FloatProgress(value=0.0, bar_style='info', description='Progress:', layout=Layout(height='25px', width='50%'),…"
      ]
     },
     "metadata": {},
     "output_type": "display_data"
    },
    {
     "name": "stdout",
     "output_type": "stream",
     "text": [
      "root\n",
      " |-- state: string (nullable = false)\n",
      " |-- country: string (nullable = false)\n",
      " |-- last_update: string (nullable = false)\n",
      " |-- latitude: float (nullable = true)\n",
      " |-- longitude: float (nullable = true)\n",
      " |-- confirmed: integer (nullable = true)\n",
      " |-- deaths: integer (nullable = true)\n",
      " |-- recovered: integer (nullable = true)\n",
      " |-- active: integer (nullable = true)\n",
      " |-- incidence_rate: float (nullable = true)\n",
      " |-- case_fatality_ratio: float (nullable = true)"
     ]
    }
   ],
   "source": [
    "# Cast columns to proper data type\n",
    "mapped = mapped.withColumn(\"confirmed\", col(\"confirmed\").cast(IntegerType()))\\\n",
    "    .withColumn(\"deaths\", col(\"deaths\").cast(IntegerType()))\\\n",
    "    .withColumn(\"recovered\", col(\"recovered\").cast(IntegerType()))\\\n",
    "    .withColumn(\"latitude\", col(\"latitude\").cast(FloatType()))\\\n",
    "    .withColumn(\"longitude\", col(\"longitude\").cast(FloatType()))\\\n",
    "    .withColumn(\"active\", col(\"active\").cast(IntegerType()))\\\n",
    "    .withColumn(\"incidence_rate\", col(\"incidence_rate\").cast(FloatType()))\\\n",
    "    .withColumn(\"case_fatality_ratio\", col(\"case_fatality_ratio\").cast(FloatType()))\\\n",
    "    .select(\"state\", \"country\", \"last_update\", \"latitude\", \"longitude\", \"confirmed\", \"deaths\", \"recovered\", \"active\", \"incidence_rate\", \"case_fatality_ratio\")\n",
    "\n",
    "mapped.printSchema()"
   ]
  },
  {
   "cell_type": "code",
   "execution_count": 55,
   "metadata": {},
   "outputs": [
    {
     "data": {
      "application/vnd.jupyter.widget-view+json": {
       "model_id": "cc4b5e2e0a0d49008f99d98b2e25afa8",
       "version_major": 2,
       "version_minor": 0
      },
      "text/plain": [
       "VBox()"
      ]
     },
     "metadata": {},
     "output_type": "display_data"
    },
    {
     "data": {
      "application/vnd.jupyter.widget-view+json": {
       "model_id": "",
       "version_major": 2,
       "version_minor": 0
      },
      "text/plain": [
       "FloatProgress(value=0.0, bar_style='info', description='Progress:', layout=Layout(height='25px', width='50%'),…"
      ]
     },
     "metadata": {},
     "output_type": "display_data"
    },
    {
     "name": "stdout",
     "output_type": "stream",
     "text": [
      "+-------------+-------+-------------------+---------+----------+---------+------+---------+------+--------------+-------------------+-------+---+\n",
      "|        state|country|        last_update| latitude| longitude|confirmed|deaths|recovered|active|incidence_rate|case_fatality_ratio|  month|day|\n",
      "+-------------+-------+-------------------+---------+----------+---------+------+---------+------+--------------+-------------------+-------+---+\n",
      "|      Georgia|     US|2020-05-30 02:32:48|33.942432|-84.576126|     2987|   170|        0|  2817|      392.9534|           5.691329|2020-05| 29|\n",
      "|New Hampshire|     US|2020-05-30 02:32:48| 44.69063|-71.306335|        5|     0|        0|     5|     15.841333|                0.0|2020-05| 29|\n",
      "|        Idaho|     US|2020-05-30 02:32:48| 43.35071|-115.47016|       31|     2|        0|    29|      112.6822|           6.451613|2020-05| 29|\n",
      "|     Illinois|     US|2020-05-30 02:32:48| 39.00072| -89.02453|       20|     3|        0|    17|      93.73828|               15.0|2020-05| 29|\n",
      "+-------------+-------+-------------------+---------+----------+---------+------+---------+------+--------------+-------------------+-------+---+\n",
      "only showing top 4 rows"
     ]
    }
   ],
   "source": [
    "# Add new columns to put month (YYYY-mm) and day\n",
    "# Write this dataframe separately to S3 and Hive metastore to preserve original content.\n",
    "processed = mapped.withColumn('month', lit(\"{}-{}\".format(year, month))).withColumn('day', lit(\"{}\".format(day)))\n",
    "processed.show(4)"
   ]
  },
  {
   "cell_type": "code",
   "execution_count": 56,
   "metadata": {},
   "outputs": [
    {
     "data": {
      "application/vnd.jupyter.widget-view+json": {
       "model_id": "d00a706650924c579dce3b3024825d60",
       "version_major": 2,
       "version_minor": 0
      },
      "text/plain": [
       "VBox()"
      ]
     },
     "metadata": {},
     "output_type": "display_data"
    },
    {
     "data": {
      "application/vnd.jupyter.widget-view+json": {
       "model_id": "",
       "version_major": 2,
       "version_minor": 0
      },
      "text/plain": [
       "FloatProgress(value=0.0, bar_style='info', description='Progress:', layout=Layout(height='25px', width='50%'),…"
      ]
     },
     "metadata": {},
     "output_type": "display_data"
    },
    {
     "name": "stdout",
     "output_type": "stream",
     "text": [
      "+-------------+-------+---------+------+---------+-------+---+\n",
      "|        state|country|confirmed|deaths|recovered|  month|day|\n",
      "+-------------+-------+---------+------+---------+-------+---+\n",
      "|         null|     LT|     1662|    68|     1216|2020-05| 29|\n",
      "|    Andalusia|     ES|    12655|  1404|    10671|2020-05| 29|\n",
      "|Niedersachsen|     DE|    11893|   596|    10600|2020-05| 29|\n",
      "|Metropolitana|     CL|    72910|   685|        0|2020-05| 29|\n",
      "+-------------+-------+---------+------+---------+-------+---+\n",
      "only showing top 4 rows"
     ]
    }
   ],
   "source": [
    "# Create another dataframe by grouping the data by country and getting sum of stats.\n",
    "summed = mapped.groupBy(['state','country']).sum('confirmed','deaths','recovered')\\\n",
    ".withColumnRenamed(\"sum(confirmed)\", \"confirmed\").withColumnRenamed(\"sum(deaths)\", \"deaths\")\\\n",
    ".withColumnRenamed(\"sum(recovered)\", \"recovered\")\n",
    "\n",
    "aggregated_df = summed.withColumn('month', lit(\"{}-{}\".format(year, month))).withColumn('day', lit(\"{}\".format(day)))\n",
    "aggregated_df.show(4)"
   ]
  },
  {
   "cell_type": "code",
   "execution_count": 57,
   "metadata": {},
   "outputs": [
    {
     "data": {
      "application/vnd.jupyter.widget-view+json": {
       "model_id": "0c38bf879c53478a95c07b12b6cb4523",
       "version_major": 2,
       "version_minor": 0
      },
      "text/plain": [
       "VBox()"
      ]
     },
     "metadata": {},
     "output_type": "display_data"
    },
    {
     "data": {
      "application/vnd.jupyter.widget-view+json": {
       "model_id": "",
       "version_major": 2,
       "version_minor": 0
      },
      "text/plain": [
       "FloatProgress(value=0.0, bar_style='info', description='Progress:', layout=Layout(height='25px', width='50%'),…"
      ]
     },
     "metadata": {},
     "output_type": "display_data"
    }
   ],
   "source": [
    "# Write un-aggregated and processed data to Hive and S3. This retains original stats by co-ordinates for a day.\n",
    "processed.coalesce(1).write.mode(\"append\").option(\"path\",processed_output_path)\\\n",
    ".partitionBy(\"country\", \"month\").format(\"Parquet\").saveAsTable(glue_processed_table)  "
   ]
  },
  {
   "cell_type": "code",
   "execution_count": null,
   "metadata": {},
   "outputs": [],
   "source": [
    "# Write aggregated data to Hive and S3. This summarizes stats by state and country for a day.\n",
    "aggregated_df.repartition(1).write.mode(\"append\").option(\"path\", aggregated_output_path)\\\n",
    ".partitionBy(\"country\", \"month\").format(\"Parquet\").saveAsTable(glue_aggregated_table)"
   ]
  },
  {
   "cell_type": "code",
   "execution_count": null,
   "metadata": {},
   "outputs": [],
   "source": []
  }
 ],
 "metadata": {
  "kernelspec": {
   "display_name": "PySpark",
   "language": "",
   "name": "pysparkkernel"
  },
  "language_info": {
   "codemirror_mode": {
    "name": "python",
    "version": 2
   },
   "mimetype": "text/x-python",
   "name": "pyspark",
   "pygments_lexer": "python2"
  }
 },
 "nbformat": 4,
 "nbformat_minor": 4
}
