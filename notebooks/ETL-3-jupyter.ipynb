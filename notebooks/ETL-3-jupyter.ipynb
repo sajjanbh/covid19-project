{
 "cells": [
  {
   "cell_type": "code",
   "execution_count": 1,
   "metadata": {},
   "outputs": [
    {
     "data": {
      "application/vnd.jupyter.widget-view+json": {
       "model_id": "a3a689b7ace143148da5652e32ff0301",
       "version_major": 2,
       "version_minor": 0
      },
      "text/plain": [
       "VBox()"
      ]
     },
     "metadata": {},
     "output_type": "display_data"
    },
    {
     "name": "stdout",
     "output_type": "stream",
     "text": [
      "Starting Spark application\n"
     ]
    },
    {
     "data": {
      "text/html": [
       "<table>\n",
       "<tr><th>ID</th><th>YARN Application ID</th><th>Kind</th><th>State</th><th>Spark UI</th><th>Driver log</th><th>Current session?</th></tr><tr><td>8</td><td>application_1603482505045_0655</td><td>pyspark</td><td>idle</td><td><a target=\"_blank\" href=\"http://ip-172-31-12-212.eu-west-2.compute.internal:20888/proxy/application_1603482505045_0655/\">Link</a></td><td><a target=\"_blank\" href=\"http://ip-172-31-3-137.eu-west-2.compute.internal:8042/node/containerlogs/container_1603482505045_0655_01_000001/livy\">Link</a></td><td>✔</td></tr></table>"
      ],
      "text/plain": [
       "<IPython.core.display.HTML object>"
      ]
     },
     "metadata": {},
     "output_type": "display_data"
    },
    {
     "data": {
      "application/vnd.jupyter.widget-view+json": {
       "model_id": "",
       "version_major": 2,
       "version_minor": 0
      },
      "text/plain": [
       "FloatProgress(value=0.0, bar_style='info', description='Progress:', layout=Layout(height='25px', width='50%'),…"
      ]
     },
     "metadata": {},
     "output_type": "display_data"
    },
    {
     "name": "stdout",
     "output_type": "stream",
     "text": [
      "SparkSession available as 'spark'.\n"
     ]
    },
    {
     "data": {
      "application/vnd.jupyter.widget-view+json": {
       "model_id": "",
       "version_major": 2,
       "version_minor": 0
      },
      "text/plain": [
       "FloatProgress(value=0.0, bar_style='info', description='Progress:', layout=Layout(height='25px', width='50%'),…"
      ]
     },
     "metadata": {},
     "output_type": "display_data"
    }
   ],
   "source": [
    "from pyspark.sql import SparkSession\n",
    "from datetime import datetime, timedelta"
   ]
  },
  {
   "cell_type": "code",
   "execution_count": 8,
   "metadata": {},
   "outputs": [
    {
     "data": {
      "application/vnd.jupyter.widget-view+json": {
       "model_id": "14b9f02bfb934c45af7a4388502e10ce",
       "version_major": 2,
       "version_minor": 0
      },
      "text/plain": [
       "VBox()"
      ]
     },
     "metadata": {},
     "output_type": "display_data"
    },
    {
     "data": {
      "application/vnd.jupyter.widget-view+json": {
       "model_id": "",
       "version_major": 2,
       "version_minor": 0
      },
      "text/plain": [
       "FloatProgress(value=0.0, bar_style='info', description='Progress:', layout=Layout(height='25px', width='50%'),…"
      ]
     },
     "metadata": {},
     "output_type": "display_data"
    }
   ],
   "source": [
    "# Define date\n",
    "year = \"2020\"\n",
    "month = \"06\"\n",
    "day = \"03\""
   ]
  },
  {
   "cell_type": "code",
   "execution_count": 9,
   "metadata": {},
   "outputs": [
    {
     "data": {
      "application/vnd.jupyter.widget-view+json": {
       "model_id": "946c8a526de2439f931e77567e16e4ec",
       "version_major": 2,
       "version_minor": 0
      },
      "text/plain": [
       "VBox()"
      ]
     },
     "metadata": {},
     "output_type": "display_data"
    },
    {
     "data": {
      "application/vnd.jupyter.widget-view+json": {
       "model_id": "",
       "version_major": 2,
       "version_minor": 0
      },
      "text/plain": [
       "FloatProgress(value=0.0, bar_style='info', description='Progress:', layout=Layout(height='25px', width='50%'),…"
      ]
     },
     "metadata": {},
     "output_type": "display_data"
    }
   ],
   "source": [
    "# Global variables\n",
    "database = \"covid_project\"\n",
    "etl1_table = \"{}.etl1_ntbk_aggregated\".format(database)\n",
    "etl2_table = \"{}.covid_twitter_etl2_ntbk\".format(database)\n",
    "output_path = \"s3://<bucket-name>/covid_etl3/\"\n",
    "output_table = \"{}.covid_etl3_ntbk_v2\".format(database)"
   ]
  },
  {
   "cell_type": "code",
   "execution_count": 10,
   "metadata": {},
   "outputs": [
    {
     "data": {
      "application/vnd.jupyter.widget-view+json": {
       "model_id": "17547ba240f340e79c13382d431cfd8f",
       "version_major": 2,
       "version_minor": 0
      },
      "text/plain": [
       "VBox()"
      ]
     },
     "metadata": {},
     "output_type": "display_data"
    },
    {
     "data": {
      "application/vnd.jupyter.widget-view+json": {
       "model_id": "",
       "version_major": 2,
       "version_minor": 0
      },
      "text/plain": [
       "FloatProgress(value=0.0, bar_style='info', description='Progress:', layout=Layout(height='25px', width='50%'),…"
      ]
     },
     "metadata": {},
     "output_type": "display_data"
    }
   ],
   "source": [
    "# Process data from yesterday (Tuesday) to last Wednesday\n",
    "dt = \"{}-{}-{}\".format(year, month, day)\n",
    "this_day = datetime.strptime(dt, \"%Y-%m-%d\")\n",
    "tues = this_day - timedelta(days=1)\n",
    "last_wed = this_day - timedelta(days=7)\n",
    "\n",
    "yesterday = tues.strftime(\"%Y-%m-%d\")\n",
    "that_day = last_wed.strftime(\"%Y-%m-%d\")\n",
    "processed_days = []"
   ]
  },
  {
   "cell_type": "code",
   "execution_count": 11,
   "metadata": {},
   "outputs": [
    {
     "data": {
      "application/vnd.jupyter.widget-view+json": {
       "model_id": "64c0a728a55a4ff0989583dfd11e6631",
       "version_major": 2,
       "version_minor": 0
      },
      "text/plain": [
       "VBox()"
      ]
     },
     "metadata": {},
     "output_type": "display_data"
    },
    {
     "data": {
      "application/vnd.jupyter.widget-view+json": {
       "model_id": "",
       "version_major": 2,
       "version_minor": 0
      },
      "text/plain": [
       "FloatProgress(value=0.0, bar_style='info', description='Progress:', layout=Layout(height='25px', width='50%'),…"
      ]
     },
     "metadata": {},
     "output_type": "display_data"
    }
   ],
   "source": [
    "# Function to generate proper WHERE clause to query 7 days worth of data from ETL1 and ETL2 output. This logic may not be required if running every day.\n",
    "def get_where_clause():\n",
    "    # Prepare a WHERE clause for ETL1 data based on month and day values for last week\n",
    "    m_d = {}\n",
    "    for i in range(7):\n",
    "        d = tues - timedelta(days=i)\n",
    "        # Add day to processed_days list\n",
    "        processed_days.append({'S': d.strftime(\"%Y-%m-%d\")})\n",
    "\n",
    "        m = '{}-{}'.format(d.year, \"{0:0=2d}\".format(d.month))\n",
    "        if m not in m_d: m_d[m] = [\"{0:0=2d}\".format(d.day)]\n",
    "        else: m_d[m].append(\"{0:0=2d}\".format(d.day))\n",
    "\n",
    "    conditions = []\n",
    "    for m, d in m_d.items():\n",
    "        conditions.append('month = \"{}\" AND day IN (\"{}\")'.format(m, '\", \"'.join(d)))\n",
    "\n",
    "    return '({})'.format(') OR ('.join(conditions))"
   ]
  },
  {
   "cell_type": "code",
   "execution_count": 12,
   "metadata": {},
   "outputs": [
    {
     "data": {
      "application/vnd.jupyter.widget-view+json": {
       "model_id": "8d906e09869c425faf1892f287fd0a18",
       "version_major": 2,
       "version_minor": 0
      },
      "text/plain": [
       "VBox()"
      ]
     },
     "metadata": {},
     "output_type": "display_data"
    },
    {
     "data": {
      "application/vnd.jupyter.widget-view+json": {
       "model_id": "",
       "version_major": 2,
       "version_minor": 0
      },
      "text/plain": [
       "FloatProgress(value=0.0, bar_style='info', description='Progress:', layout=Layout(height='25px', width='50%'),…"
      ]
     },
     "metadata": {},
     "output_type": "display_data"
    }
   ],
   "source": [
    "# Create Session\n",
    "spark = SparkSession \\\n",
    "    .builder \\\n",
    "    .appName(\"ETL3 - Join Github and Twitter data\") \\\n",
    "    .enableHiveSupport() \\\n",
    "    .config(\"spark.hadoop.mapreduce.input.fileinputformat.input.dir.recursive\",\"true\") \\\n",
    "    .config(\"hive.mapred.supports.subdirectories\",\"true\") \\\n",
    "    .getOrCreate()"
   ]
  },
  {
   "cell_type": "code",
   "execution_count": 13,
   "metadata": {},
   "outputs": [
    {
     "data": {
      "application/vnd.jupyter.widget-view+json": {
       "model_id": "20c47c0900a34f828a41d707427ef4e0",
       "version_major": 2,
       "version_minor": 0
      },
      "text/plain": [
       "VBox()"
      ]
     },
     "metadata": {},
     "output_type": "display_data"
    },
    {
     "data": {
      "application/vnd.jupyter.widget-view+json": {
       "model_id": "",
       "version_major": 2,
       "version_minor": 0
      },
      "text/plain": [
       "FloatProgress(value=0.0, bar_style='info', description='Progress:', layout=Layout(height='25px', width='50%'),…"
      ]
     },
     "metadata": {},
     "output_type": "display_data"
    },
    {
     "name": "stdout",
     "output_type": "stream",
     "text": [
      "+-------+----------+----------------------------+\n",
      "|country|       day|numberofcovidtweetsretrieved|\n",
      "+-------+----------+----------------------------+\n",
      "|     PK|2020-05-29|                          72|\n",
      "|     AU|2020-05-29|                          75|\n",
      "|     SA|2020-05-29|                          17|\n",
      "|     CA|2020-05-29|                         211|\n",
      "+-------+----------+----------------------------+\n",
      "only showing top 4 rows"
     ]
    }
   ],
   "source": [
    "# Create a Dataframe from ETL-2 results (Twitter data)\n",
    "q1 = 'select country, cast(day as date), numberofcovidtweetsretrieved as numberofcovidtweetsretrieved from {} where country != \"\" AND cast(day as date) between cast(\"{}\" as date) and cast(\"{}\" as date)'.format(etl2_table, that_day, yesterday)\n",
    "df1 = spark.sql(q1)\n",
    "df1.show(4)"
   ]
  },
  {
   "cell_type": "code",
   "execution_count": 14,
   "metadata": {},
   "outputs": [
    {
     "data": {
      "application/vnd.jupyter.widget-view+json": {
       "model_id": "8eca9a32e44a40e89f2f3d7024b797d5",
       "version_major": 2,
       "version_minor": 0
      },
      "text/plain": [
       "VBox()"
      ]
     },
     "metadata": {},
     "output_type": "display_data"
    },
    {
     "data": {
      "application/vnd.jupyter.widget-view+json": {
       "model_id": "",
       "version_major": 2,
       "version_minor": 0
      },
      "text/plain": [
       "FloatProgress(value=0.0, bar_style='info', description='Progress:', layout=Layout(height='25px', width='50%'),…"
      ]
     },
     "metadata": {},
     "output_type": "display_data"
    },
    {
     "name": "stdout",
     "output_type": "stream",
     "text": [
      "+-------+----------+---------+------+---------+\n",
      "|country|        dt|confirmed|deaths|recovered|\n",
      "+-------+----------+---------+------+---------+\n",
      "|     ET|2020-05-29|      968|     8|      197|\n",
      "|     BE|2020-05-29|    58061|  9430|    15682|\n",
      "|     SZ|2020-05-29|      279|     2|      168|\n",
      "|     SA|2020-05-29|    81766|   458|    57013|\n",
      "+-------+----------+---------+------+---------+\n",
      "only showing top 4 rows"
     ]
    }
   ],
   "source": [
    "# Create a Dataframe from ETL-1 results (Github data)\n",
    "q2 = 'select country, cast(concat(month, \"-\", day) as date) as dt, sum(confirmed) as confirmed, sum(deaths) as deaths, sum(recovered) as recovered from {} where {} group by country, dt'.format(etl1_table, get_where_clause())\n",
    "df2 = spark.sql(q2)\n",
    "df2.show(4)"
   ]
  },
  {
   "cell_type": "code",
   "execution_count": 15,
   "metadata": {},
   "outputs": [
    {
     "data": {
      "application/vnd.jupyter.widget-view+json": {
       "model_id": "659e72617f8a4b23b84f9fd8a8ec13b8",
       "version_major": 2,
       "version_minor": 0
      },
      "text/plain": [
       "VBox()"
      ]
     },
     "metadata": {},
     "output_type": "display_data"
    },
    {
     "data": {
      "application/vnd.jupyter.widget-view+json": {
       "model_id": "",
       "version_major": 2,
       "version_minor": 0
      },
      "text/plain": [
       "FloatProgress(value=0.0, bar_style='info', description='Progress:', layout=Layout(height='25px', width='50%'),…"
      ]
     },
     "metadata": {},
     "output_type": "display_data"
    },
    {
     "name": "stdout",
     "output_type": "stream",
     "text": [
      "+-------+----------+----------------------------+---------+------+---------+\n",
      "|country|       day|numberofcovidtweetsretrieved|confirmed|deaths|recovered|\n",
      "+-------+----------+----------------------------+---------+------+---------+\n",
      "|     ET|2020-05-29|                           4|      968|     8|      197|\n",
      "|     BE|2020-05-29|                          19|    58061|  9430|    15682|\n",
      "|     SZ|2020-05-29|                           4|      279|     2|      168|\n",
      "|     SA|2020-05-29|                          17|    81766|   458|    57013|\n",
      "+-------+----------+----------------------------+---------+------+---------+\n",
      "only showing top 4 rows"
     ]
    }
   ],
   "source": [
    "# Join above two dataframes \n",
    "df3 = df2.join(df1, (df1.country == df2.country) & (df1.day == df2.dt)).select(df1.country, df1.day, df1.numberofcovidtweetsretrieved, df2.confirmed, df2.deaths, df2.recovered)\n",
    "df3.show(4)"
   ]
  },
  {
   "cell_type": "code",
   "execution_count": 16,
   "metadata": {},
   "outputs": [
    {
     "data": {
      "application/vnd.jupyter.widget-view+json": {
       "model_id": "1c516ca1a6aa41d9aba1b2350d837108",
       "version_major": 2,
       "version_minor": 0
      },
      "text/plain": [
       "VBox()"
      ]
     },
     "metadata": {},
     "output_type": "display_data"
    },
    {
     "data": {
      "application/vnd.jupyter.widget-view+json": {
       "model_id": "",
       "version_major": 2,
       "version_minor": 0
      },
      "text/plain": [
       "FloatProgress(value=0.0, bar_style='info', description='Progress:', layout=Layout(height='25px', width='50%'),…"
      ]
     },
     "metadata": {},
     "output_type": "display_data"
    },
    {
     "name": "stdout",
     "output_type": "stream",
     "text": [
      "Wrote the output!"
     ]
    }
   ],
   "source": [
    "df3.repartition(1).write.mode(\"append\").option(\"path\", output_path).format(\"Parquet\").saveAsTable(output_table)\n",
    "print(\"Wrote the output!\")"
   ]
  },
  {
   "cell_type": "code",
   "execution_count": null,
   "metadata": {},
   "outputs": [],
   "source": []
  }
 ],
 "metadata": {
  "kernelspec": {
   "display_name": "PySpark",
   "language": "",
   "name": "pysparkkernel"
  },
  "language_info": {
   "codemirror_mode": {
    "name": "python",
    "version": 2
   },
   "mimetype": "text/x-python",
   "name": "pyspark",
   "pygments_lexer": "python2"
  }
 },
 "nbformat": 4,
 "nbformat_minor": 4
}
